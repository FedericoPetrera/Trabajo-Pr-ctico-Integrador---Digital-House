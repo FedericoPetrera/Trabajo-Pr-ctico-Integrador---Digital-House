{
 "cells": [
  {
   "cell_type": "markdown",
   "metadata": {},
   "source": [
    "# PICKLE SERVIDOR"
   ]
  },
  {
   "cell_type": "markdown",
   "metadata": {},
   "source": [
    "#### Librerias"
   ]
  },
  {
   "cell_type": "code",
   "execution_count": 5,
   "metadata": {},
   "outputs": [],
   "source": [
    "import pickle\n",
    "from flask import  Flask, request, jsonify\n",
    "from sklearn.metrics import r2_score\n",
    "import numpy as np"
   ]
  },
  {
   "cell_type": "code",
   "execution_count": 6,
   "metadata": {},
   "outputs": [],
   "source": [
    "# Iniciamos nuestra API\n",
    "app = Flask('Mathernal_Risk')"
   ]
  },
  {
   "cell_type": "markdown",
   "metadata": {},
   "source": [
    "### Entrenamiento del modelo"
   ]
  },
  {
   "cell_type": "markdown",
   "metadata": {},
   "source": [
    "#### Solicitud de predicción"
   ]
  },
  {
   "cell_type": "code",
   "execution_count": 7,
   "metadata": {},
   "outputs": [],
   "source": [
    "# definimos el método post en nuestra URL\n",
    "@app.route('/api',methods=['POST'])\n",
    "def predict_post():\n",
    "    # obtengo los datos del request post.\n",
    "    data = request.get_json(force=True)\n",
    "    if data['model'] == 'xgb_grid':\n",
    "        \n",
    "        # Cargamos el modelos desde nuestra carpeta local en el servidor usando Pickle\n",
    "        with open('./xgb_grid.pkl', 'rb') as f_math:\n",
    "            model_randomForest = pickle.load(f_math)\n",
    "        \n",
    "        m = model_randomForest\n",
    "        \n",
    "    else:\n",
    "        return 'modelo %s no existe' % model\n",
    "        \n",
    "    predictions = m.predict(np.array([float(d) for d in  data['test']]).reshape(1,-1))\n",
    "    \n",
    "    return jsonify({'Clase': int(predictions[0])})"
   ]
  },
  {
   "cell_type": "markdown",
   "metadata": {},
   "source": [
    "#### Disponibilización del servidor"
   ]
  },
  {
   "cell_type": "code",
   "execution_count": 8,
   "metadata": {},
   "outputs": [
    {
     "name": "stdout",
     "output_type": "stream",
     "text": [
      " * Serving Flask app \"Mathernal_Risk\" (lazy loading)\n",
      " * Environment: production\n",
      "   WARNING: This is a development server. Do not use it in a production deployment.\n",
      "   Use a production WSGI server instead.\n",
      " * Debug mode: off\n"
     ]
    },
    {
     "name": "stderr",
     "output_type": "stream",
     "text": [
      " * Running on all addresses.\n",
      "   WARNING: This is a development server. Do not use it in a production deployment.\n",
      " * Running on http://192.168.0.21:5007/ (Press CTRL+C to quit)\n",
      "127.0.0.1 - - [10/Oct/2022 23:10:55] \"POST /api HTTP/1.1\" 200 -\n",
      "127.0.0.1 - - [10/Oct/2022 23:13:54] \"POST /api HTTP/1.1\" 200 -\n"
     ]
    }
   ],
   "source": [
    "# Ponemos a correr el servidor. Dado que ahora vamos a usar el método POST para pasar la información, ya no podemos\n",
    "# hacerlo a partir de informació que esté en la URL. Así que para poder hacer un request con POST, mientras esta \n",
    "# notebook queda corriendo manteniendo nuestra API \"online\" (localmente), vamos a ir a la siguiente notebook: \n",
    "# \"02b_Flask.ipynb\" y hacer el request con POST: \n",
    "app.run(host='0.0.0.0', port = 5007)"
   ]
  },
  {
   "cell_type": "code",
   "execution_count": null,
   "metadata": {},
   "outputs": [],
   "source": []
  }
 ],
 "metadata": {
  "kernelspec": {
   "display_name": "Python 3.8.13 ('dhdsblend2021')",
   "language": "python",
   "name": "python3"
  },
  "language_info": {
   "codemirror_mode": {
    "name": "ipython",
    "version": 3
   },
   "file_extension": ".py",
   "mimetype": "text/x-python",
   "name": "python",
   "nbconvert_exporter": "python",
   "pygments_lexer": "ipython3",
   "version": "3.8.13"
  },
  "orig_nbformat": 4,
  "vscode": {
   "interpreter": {
    "hash": "9b745726b3d417529d7eb8e395dcc63da0dd2a5bd1409d7062f73f207f203050"
   }
  }
 },
 "nbformat": 4,
 "nbformat_minor": 2
}
