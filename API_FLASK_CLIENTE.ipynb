{
 "cells": [
  {
   "cell_type": "markdown",
   "metadata": {},
   "source": [
    "# PICKLE CLIENTE"
   ]
  },
  {
   "cell_type": "markdown",
   "metadata": {},
   "source": [
    "#### Librerias"
   ]
  },
  {
   "cell_type": "code",
   "execution_count": 5,
   "metadata": {},
   "outputs": [],
   "source": [
    "import pandas as pd\n",
    "import requests\n"
   ]
  },
  {
   "cell_type": "markdown",
   "metadata": {},
   "source": [
    "### Solicitud de predicción"
   ]
  },
  {
   "cell_type": "markdown",
   "metadata": {},
   "source": [
    "#### Se cargan los datos "
   ]
  },
  {
   "cell_type": "code",
   "execution_count": 7,
   "metadata": {},
   "outputs": [
    {
     "name": "stdout",
     "output_type": "stream",
     "text": [
      "{'Clase': 0}\n"
     ]
    }
   ],
   "source": [
    "import requests\n",
    "\n",
    "url = 'http://localhost:5007/api'\n",
    "\n",
    "Age = pd.Series(0.63718599)\n",
    "SystolicBP = pd.Series(1.36404543)\n",
    "DiastolicBP = pd.Series(1.59491523) \n",
    "BS = pd.Series(0.11808708)\n",
    "BodyTemp = pd.Series(-0.51952129) \n",
    "HeartRate = pd.Series(-1.15267162)\n",
    "\n",
    "caso_to_predict=pd.DataFrame({\"Age\":Age, \"SystolicBP\":SystolicBP,\n",
    "                       \"DiastolicBP\":DiastolicBP, \"BS\":BS,\n",
    "                       \"BodyTemp\":BodyTemp, \"HeartRate\":HeartRate})\n",
    "str(Age[0])\n",
    "\n",
    "r = requests.post(url,\n",
    "                  json = {'model' : 'xgb_grid',\n",
    "                          'test':[Age[0],SystolicBP[0],DiastolicBP[0],BS[0],BodyTemp[0],HeartRate[0]]})\n",
    "print(r.json()) "
   ]
  },
  {
   "cell_type": "markdown",
   "metadata": {},
   "source": [
    "#### DATOS QUE ANTERIORMENTE SE PASO SE ENCUENTRAN NORMALIZADOS QUE CORRESPONDEN AL: \n",
    "\n",
    "#####  ID_1 =  [ 0.63718599,  1.36404543,  1.59491523,  0.11808708, -0.51952129, -1.15267162]\n",
    "##### ESTA CLASIFICADO COMO CLASE 0  QUE CORRESPONDE A HIGH RISK"
   ]
  },
  {
   "cell_type": "markdown",
   "metadata": {},
   "source": []
  }
 ],
 "metadata": {
  "kernelspec": {
   "display_name": "Python 3.8.13 ('dhdsblend2021')",
   "language": "python",
   "name": "python3"
  },
  "language_info": {
   "codemirror_mode": {
    "name": "ipython",
    "version": 3
   },
   "file_extension": ".py",
   "mimetype": "text/x-python",
   "name": "python",
   "nbconvert_exporter": "python",
   "pygments_lexer": "ipython3",
   "version": "3.8.13"
  },
  "orig_nbformat": 4,
  "vscode": {
   "interpreter": {
    "hash": "9b745726b3d417529d7eb8e395dcc63da0dd2a5bd1409d7062f73f207f203050"
   }
  }
 },
 "nbformat": 4,
 "nbformat_minor": 2
}
