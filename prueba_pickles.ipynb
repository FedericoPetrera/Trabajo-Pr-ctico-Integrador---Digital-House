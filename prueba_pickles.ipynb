{
 "cells": [
  {
   "cell_type": "markdown",
   "id": "0d1cffdd-4129-4473-80b8-6b376c41e9e6",
   "metadata": {},
   "source": [
    "### Pickles"
   ]
  },
  {
   "cell_type": "code",
   "execution_count": 2,
   "id": "1f2f9be9-e9b6-47c8-a234-4a3ae23e0398",
   "metadata": {},
   "outputs": [],
   "source": [
    "import pickle\n",
    "import numpy as np\n",
    "import pandas as pd"
   ]
  },
  {
   "cell_type": "code",
   "execution_count": 3,
   "id": "325336b2-ddcd-4ed6-aa70-d323015b31e2",
   "metadata": {},
   "outputs": [],
   "source": [
    "# Probamos levantar nuestro mejor modelo y lo llamamos con otro nombre:\n",
    "\n",
    "with open('./xgb_grid.pkl', 'rb') as f_math:\n",
    "        modelo_xgb = pickle.load(f_math)"
   ]
  },
  {
   "cell_type": "code",
   "execution_count": 4,
   "id": "79d4ddc6-3411-4967-9167-6b0ba6d73031",
   "metadata": {},
   "outputs": [],
   "source": [
    "# Armamos un DataFrame con los datos originales de la primer fila del dataset:\n",
    "\n",
    "Age = pd.Series(-0.036789)\n",
    "SystolicBP = pd.Series(0.222031)\n",
    "DiastolicBP = pd.Series(0.840019) \n",
    "BS = pd.Series(-0.573506)   \n",
    "BodyTemp = pd.Series(-0.519521) \n",
    "HeartRate = pd.Series(-0.626390)"
   ]
  },
  {
   "cell_type": "code",
   "execution_count": 7,
   "id": "2b3296c7-cc3d-4993-89b8-f1709d494bcd",
   "metadata": {},
   "outputs": [
    {
     "data": {
      "text/html": [
       "<div>\n",
       "<style scoped>\n",
       "    .dataframe tbody tr th:only-of-type {\n",
       "        vertical-align: middle;\n",
       "    }\n",
       "\n",
       "    .dataframe tbody tr th {\n",
       "        vertical-align: top;\n",
       "    }\n",
       "\n",
       "    .dataframe thead th {\n",
       "        text-align: right;\n",
       "    }\n",
       "</style>\n",
       "<table border=\"1\" class=\"dataframe\">\n",
       "  <thead>\n",
       "    <tr style=\"text-align: right;\">\n",
       "      <th></th>\n",
       "      <th>Age</th>\n",
       "      <th>SystolicBP</th>\n",
       "      <th>DiastolicBP</th>\n",
       "      <th>BS</th>\n",
       "      <th>BodyTemp</th>\n",
       "      <th>HeartRate</th>\n",
       "    </tr>\n",
       "  </thead>\n",
       "  <tbody>\n",
       "    <tr>\n",
       "      <th>0</th>\n",
       "      <td>-0.036789</td>\n",
       "      <td>0.222031</td>\n",
       "      <td>0.840019</td>\n",
       "      <td>-0.573506</td>\n",
       "      <td>-0.519521</td>\n",
       "      <td>-0.62639</td>\n",
       "    </tr>\n",
       "  </tbody>\n",
       "</table>\n",
       "</div>"
      ],
      "text/plain": [
       "        Age  SystolicBP  DiastolicBP        BS  BodyTemp  HeartRate\n",
       "0 -0.036789    0.222031     0.840019 -0.573506 -0.519521   -0.62639"
      ]
     },
     "execution_count": 7,
     "metadata": {},
     "output_type": "execute_result"
    }
   ],
   "source": [
    "X_test = pd.DataFrame({\"Age\":Age, \"SystolicBP\":SystolicBP,\n",
    "                       \"DiastolicBP\":DiastolicBP, \"BS\":BS,\n",
    "                       \"BodyTemp\":BodyTemp, \"HeartRate\":HeartRate})\n",
    "X_test"
   ]
  },
  {
   "cell_type": "code",
   "execution_count": 8,
   "id": "5028087c-505a-4fcb-8690-2b25dfba1cf9",
   "metadata": {},
   "outputs": [
    {
     "data": {
      "text/plain": [
       "array([2], dtype=int64)"
      ]
     },
     "execution_count": 8,
     "metadata": {},
     "output_type": "execute_result"
    }
   ],
   "source": [
    "# Pedimos una prediccion [Simulamos lo que sería un \"caso real\"]\n",
    "\n",
    "modelo_xgb.predict(X_test)"
   ]
  },
  {
   "cell_type": "markdown",
   "id": "ee54c085-65c9-4512-988f-fcd2c084ee51",
   "metadata": {},
   "source": [
    "#### Pruebo sobre el Dataset limpio pero sin escalear:"
   ]
  },
  {
   "cell_type": "code",
   "execution_count": 9,
   "id": "81be5504-3462-4c57-bfde-5eba1104a614",
   "metadata": {},
   "outputs": [],
   "source": [
    "Age = pd.Series(25.0)\n",
    "SystolicBP = pd.Series(130)\n",
    "DiastolicBP = pd.Series(80.0)\n",
    "BS = pd.Series(15.0)\t\n",
    "BodyTemp = pd.Series(36.67)\t\n",
    "HeartRate = pd.Series(86.0)"
   ]
  },
  {
   "cell_type": "code",
   "execution_count": 10,
   "id": "deca03f2-1435-4d0e-8e62-d0812a9b486e",
   "metadata": {},
   "outputs": [],
   "source": [
    "X_test = pd.DataFrame({\"Age\":Age, \"SystolicBP\":SystolicBP,\n",
    "                       \"DiastolicBP\":DiastolicBP, \"BS\":BS,\n",
    "                       \"BodyTemp\":BodyTemp, \"HeartRate\":HeartRate})"
   ]
  },
  {
   "cell_type": "code",
   "execution_count": 11,
   "id": "91737a50-8fb7-4f02-bfcf-3b81ba908f13",
   "metadata": {},
   "outputs": [
    {
     "data": {
      "text/html": [
       "<div>\n",
       "<style scoped>\n",
       "    .dataframe tbody tr th:only-of-type {\n",
       "        vertical-align: middle;\n",
       "    }\n",
       "\n",
       "    .dataframe tbody tr th {\n",
       "        vertical-align: top;\n",
       "    }\n",
       "\n",
       "    .dataframe thead th {\n",
       "        text-align: right;\n",
       "    }\n",
       "</style>\n",
       "<table border=\"1\" class=\"dataframe\">\n",
       "  <thead>\n",
       "    <tr style=\"text-align: right;\">\n",
       "      <th></th>\n",
       "      <th>Age</th>\n",
       "      <th>SystolicBP</th>\n",
       "      <th>DiastolicBP</th>\n",
       "      <th>BS</th>\n",
       "      <th>BodyTemp</th>\n",
       "      <th>HeartRate</th>\n",
       "    </tr>\n",
       "  </thead>\n",
       "  <tbody>\n",
       "    <tr>\n",
       "      <th>0</th>\n",
       "      <td>25.0</td>\n",
       "      <td>130</td>\n",
       "      <td>80.0</td>\n",
       "      <td>15.0</td>\n",
       "      <td>36.67</td>\n",
       "      <td>86.0</td>\n",
       "    </tr>\n",
       "  </tbody>\n",
       "</table>\n",
       "</div>"
      ],
      "text/plain": [
       "    Age  SystolicBP  DiastolicBP    BS  BodyTemp  HeartRate\n",
       "0  25.0         130         80.0  15.0     36.67       86.0"
      ]
     },
     "execution_count": 11,
     "metadata": {},
     "output_type": "execute_result"
    }
   ],
   "source": [
    "X_test"
   ]
  },
  {
   "cell_type": "code",
   "execution_count": 12,
   "id": "78c58c35-0863-42fa-a261-86a9dc72f5b6",
   "metadata": {},
   "outputs": [
    {
     "data": {
      "text/plain": [
       "array([0], dtype=int64)"
      ]
     },
     "execution_count": 12,
     "metadata": {},
     "output_type": "execute_result"
    }
   ],
   "source": [
    "#Aplicamos predict:\n",
    "\n",
    "modelo_xgb.predict(X_test)"
   ]
  },
  {
   "cell_type": "markdown",
   "id": "1c81f313-f151-4951-b4f9-d5c852c36adb",
   "metadata": {},
   "source": [
    "Aplicando la librería Pickles lo que hicimos fue serializar un objeto Python en un formato binario. En este caso, el trabajo fue hecho con la predicción de nuestro mejor modelo (XG Boost). Probamos levantar nuestro mejor modelo y lo renombramos. \n",
    "Luego observamos si los archivos se crearon en la carpeta en donde estamos ejecutando la notebook y a continuación le pedimos una predicción (simulamos lo que sería un \"caso real\" aplicando el X_test de nuestro dataset original). La predicción la realizamos con el dataset escaleado y sin escalear (ambos ya con la limpieza hecha).  "
   ]
  }
 ],
 "metadata": {
  "kernelspec": {
   "display_name": "Python [conda env:dhdsblend2021] *",
   "language": "python",
   "name": "conda-env-dhdsblend2021-py"
  },
  "language_info": {
   "codemirror_mode": {
    "name": "ipython",
    "version": 3
   },
   "file_extension": ".py",
   "mimetype": "text/x-python",
   "name": "python",
   "nbconvert_exporter": "python",
   "pygments_lexer": "ipython3",
   "version": "3.8.13"
  }
 },
 "nbformat": 4,
 "nbformat_minor": 5
}
